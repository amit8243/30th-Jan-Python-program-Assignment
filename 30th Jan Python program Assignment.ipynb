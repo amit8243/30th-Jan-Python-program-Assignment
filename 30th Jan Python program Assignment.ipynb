{
 "cells": [
  {
   "cell_type": "code",
   "execution_count": 21,
   "id": "d88d7d08-d9ea-483e-b6a6-b50a0dcd8272",
   "metadata": {},
   "outputs": [
    {
     "name": "stdin",
     "output_type": "stream",
     "text": [
      "Enter the Marks 45\n"
     ]
    },
    {
     "name": "stdout",
     "output_type": "stream",
     "text": [
      "Grade D\n"
     ]
    }
   ],
   "source": [
    "#Q1. WAP enter the marks and display the Grade\n",
    "Marks = int(input(\"Enter the Marks\"))\n",
    "if Marks > 90:\n",
    "    print(\"Grade A\")\n",
    "elif Marks > 80 and Marks <= 90 :\n",
    "        print(\"Grade B\")\n",
    "elif Marks >= 60 and Marks <= 80 :\n",
    "        print(\"Grade C\")\n",
    "elif Marks < 60:\n",
    "        print(\"Grade D\")"
   ]
  },
  {
   "cell_type": "code",
   "execution_count": 1,
   "id": "42feefb4-9d33-4845-879d-36f6af4354e6",
   "metadata": {},
   "outputs": [
    {
     "name": "stdin",
     "output_type": "stream",
     "text": [
      "Enter the Bike Cost Price 23000\n"
     ]
    },
    {
     "name": "stdout",
     "output_type": "stream",
     "text": [
      "Road Tax is: 5%\n"
     ]
    }
   ],
   "source": [
    "#Q2. WAP enter the bike price and display the road tax\n",
    "Cost_Price = int(input(\"Enter the Bike Cost Price\"))\n",
    "if Cost_Price > 100000:\n",
    "            print(\"Road Tax is: 15%\")\n",
    "elif Cost_Price > 50000 and Cost_Price <= 100000:\n",
    "                 print(\"Road Tax is: 10%\")\n",
    "elif Cost_Price <= 50000 :\n",
    "                 print(\"Road Tax is: 5%\")"
   ]
  },
  {
   "cell_type": "code",
   "execution_count": null,
   "id": "3f5216e8-c65e-4a65-b4e1-4c776fcd9114",
   "metadata": {},
   "outputs": [],
   "source": [
    "#Q3. WAP enter the city and display the monuments\n",
    "City = str(input(\"Enter the City\"))\n",
    "if City == \"Delhi\":\n",
    "    print(\"Red Fort\")\n",
    "elif City == \"Agra\":\n",
    "    print(\"Taj Mahal\")\n",
    "elif City == \"Jaipur\":\n",
    "    print(\"Jal Mahal\")"
   ]
  },
  {
   "cell_type": "code",
   "execution_count": null,
   "id": "2fd1e8cf-a66e-4c14-bfb9-104a43e948c2",
   "metadata": {},
   "outputs": [],
   "source": [
    "#Q4. Check how many times a given number can be can be divided by 3 before it is less than or equal to 10\n",
    "num = int(input(\"Enter the number:\"))\n",
    "i=0\n",
    "while num >10:\n",
    " num = num/3\n",
    "i = i+1\n",
    "print(\"The given number can be divided by 3 a maximum of\",i,\"times before it is less than or equal to 10.\")"
   ]
  },
  {
   "cell_type": "code",
   "execution_count": null,
   "id": "7797c3ad-e1eb-4047-be74-e84f7cf1f259",
   "metadata": {},
   "outputs": [],
   "source": [
    "#Q5. Why and when to use while loop in python give a detailed description with example.\n",
    "A while loop in Python is a control flow statement that allows code to be executed repeatedly based on a given Boolean \n",
    "condition. The while loop can be thought of as a repeating if statement.\n",
    "\n",
    "The general syntax for a while loop is:\n",
    "\n",
    "while condition: \n",
    "    statement(s)\n",
    "\n",
    "The condition is evaluated, and if the condition is true, the code within the block is executed. This repeats until the \n",
    "condition becomes false.\n",
    "\n",
    "Example:\n",
    "\n",
    "# Program to add natural numbers up to \n",
    "# sum = 1+2+3+...+n\n",
    "\n",
    "# To take input from the user,\n",
    "n = int(input(\"Enter the number: \"))\n",
    "\n",
    "# initialize sum and counter\n",
    "sum = 0\n",
    "i = 1\n",
    "\n",
    "while i <= n:\n",
    "    sum = sum + i\n",
    "    i = i+1    \n",
    "\n",
    "# print the sum\n",
    "print(\"The sum is\", sum)"
   ]
  },
  {
   "cell_type": "code",
   "execution_count": null,
   "id": "68dfc819-1df0-483f-b51f-4f9681cdab2c",
   "metadata": {},
   "outputs": [],
   "source": [
    "#Q6. use nested while loop to print 3 different pattern\n",
    "#Pattern 1\n",
    "i = 0\n",
    "while i < 5:\n",
    "    j = 0\n",
    "    while j <= i:\n",
    "        print(\"*\", end=\" \")\n",
    "        j = j + 1\n",
    "    print()\n",
    "    i = i + 1\n",
    "    \n",
    "#Pattern 2 \n",
    "i = 0\n",
    "while i < 5:\n",
    "    j = 5\n",
    "    while j > i:\n",
    "        print(\"*\", end=\" \")\n",
    "        j = j - 1\n",
    "    print()\n",
    "    i = i + 1\n",
    "\n",
    "    \n",
    "#Pattern 3 \n",
    "i = 0\n",
    "while i < 5:\n",
    "    j = 0\n",
    "    while j < 5:\n",
    "        if j <= i:\n",
    "            print(\"*\", end=\" \")\n",
    "        else:\n",
    "            print(\" \", end=\" \")\n",
    "        j = j + 1\n",
    "    print()\n",
    "    i = i + 1"
   ]
  },
  {
   "cell_type": "code",
   "execution_count": null,
   "id": "90efb7e6-0ced-4f58-be62-3a962dcd4fc0",
   "metadata": {},
   "outputs": [],
   "source": [
    "#Q7. Reverse a while loop to display number from 10 to 1\n",
    "# Ask for enter the number from the use  \n",
    "number = int(input(\"Enter the integer number: \"))  \n",
    "  \n",
    "# Initiate value to null  \n",
    "revs_number = 0  \n",
    "  \n",
    "# reverse the integer number using the while loop  \n",
    "  \n",
    "while (number > 0):  \n",
    "    # Logic  \n",
    "    remainder = number % 10  \n",
    "    revs_number = (revs_number * 10) + remainder  \n",
    "    number = number // 10  \n",
    "\n",
    "#display the result \n",
    "\n",
    "  print(\"The reverse number is : {}\".format(revs_number))  "
   ]
  },
  {
   "cell_type": "code",
   "execution_count": null,
   "id": "0f2968ad-2c86-4277-b6b7-3f9b8a4448c3",
   "metadata": {},
   "outputs": [],
   "source": [
    "#Q8. # Ask for enter the number from the use  \n",
    "number = int(input(\"Enter the integer number: \"))  \n",
    "  \n",
    "# Initiate value to null  \n",
    "revs_number = 0  \n",
    "  \n",
    "# reverse the integer number using the while loop  \n",
    "  \n",
    "while (number > 0):  \n",
    "    # Logic  \n",
    "    remainder = number % 10  \n",
    "    revs_number = (revs_number * 10) + remainder  \n",
    "    number = number // 10  \n",
    "\n",
    "#display the result \n",
    "\n",
    "  print(\"The reverse number is : {}\".format(revs_number))  "
   ]
  }
 ],
 "metadata": {
  "kernelspec": {
   "display_name": "Python 3 (ipykernel)",
   "language": "python",
   "name": "python3"
  },
  "language_info": {
   "codemirror_mode": {
    "name": "ipython",
    "version": 3
   },
   "file_extension": ".py",
   "mimetype": "text/x-python",
   "name": "python",
   "nbconvert_exporter": "python",
   "pygments_lexer": "ipython3",
   "version": "3.10.8"
  }
 },
 "nbformat": 4,
 "nbformat_minor": 5
}
